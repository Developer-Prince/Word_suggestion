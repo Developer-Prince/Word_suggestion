{
 "cells": [
  {
   "cell_type": "code",
   "execution_count": 1,
   "id": "medieval-affairs",
   "metadata": {},
   "outputs": [],
   "source": [
    "import numpy as np\n",
    "import pandas as pd\n",
    "from collections import Counter\n",
    "import matplotlib.pyplot as plt\n",
    "import re"
   ]
  },
  {
   "cell_type": "code",
   "execution_count": 2,
   "id": "varied-hometown",
   "metadata": {},
   "outputs": [],
   "source": [
    "def process_data(file_name):\n",
    "    \n",
    "    words = []\n",
    "    \n",
    "    with open(file_name) as f:\n",
    "        text = f.read()\n",
    "    text = text.lower()\n",
    "    words = re.findall(r'\\w+' , text)\n",
    "    \n",
    "    return words"
   ]
  },
  {
   "cell_type": "code",
   "execution_count": 3,
   "id": "liable-methodology",
   "metadata": {},
   "outputs": [
    {
     "name": "stdout",
     "output_type": "stream",
     "text": [
      "\u001b[94m\n",
      "The first 10 Words in the Shakespeare.txt are :  ['o', 'for', 'a', 'muse', 'of', 'fire', 'that', 'would', 'ascend', 'the']\n",
      "\u001b[92m\n",
      "The number of unique words in the vocab is : 6116\n"
     ]
    }
   ],
   "source": [
    "word_l = process_data('shakespeare.txt')\n",
    "\n",
    "vocab = set(word_l)\n",
    "print(\"\\033[94m\")\n",
    "print('The first 10 Words in the Shakespeare.txt are : ', word_l[0:10])\n",
    "print(\"\\033[92m\")\n",
    "print('The number of unique words in the vocab is :',len(vocab))"
   ]
  },
  {
   "cell_type": "code",
   "execution_count": 4,
   "id": "aggregate-ridge",
   "metadata": {},
   "outputs": [],
   "source": [
    "def get_count(text):\n",
    "    \n",
    "    word_count_dictionary = {}\n",
    "    word_count_dictionary = Counter(text)\n",
    "    \n",
    "    return word_count_dictionary"
   ]
  },
  {
   "cell_type": "code",
   "execution_count": 5,
   "id": "statewide-culture",
   "metadata": {},
   "outputs": [],
   "source": [
    "def get_prob(word_count_dict):\n",
    "    \n",
    "    probs = {}\n",
    "    \n",
    "    vocab_size = sum(word_count_dict.values())\n",
    "    \n",
    "    for k in word_count_dict.keys():\n",
    "        probs[k] = word_count_dict[k]/vocab_size\n",
    "        \n",
    "    return probs\n",
    "    \n",
    "    "
   ]
  },
  {
   "cell_type": "code",
   "execution_count": 6,
   "id": "surprised-belfast",
   "metadata": {},
   "outputs": [],
   "source": [
    "def delete_letter(word,verbose = False):\n",
    "    \n",
    "    split_l = []\n",
    "    \n",
    "    for i in range(len(word)):\n",
    "        split_l.append((word[:i], word[i:]))\n",
    "    \n",
    "    delete_l = [L + R[1:] for L,R in split_l if R]\n",
    "    if verbose: print(f\"input word : {word} , \\nsplit words : {split_l}, \\ndelete letter : {delete_l}\")\n",
    "    return delete_l"
   ]
  },
  {
   "cell_type": "code",
   "execution_count": 7,
   "id": "assisted-russell",
   "metadata": {},
   "outputs": [],
   "source": [
    "def switch_letter(word , verbose = False):\n",
    "    split_l  = []\n",
    "    \n",
    "    for i in range(len(word)):\n",
    "        split_l.append((word[:i], word[i:]))\n",
    "    \n",
    "    switch_l = [L+R[1]+R[0]+R[2:] for L,R in split_l if len(R)>=2]\n",
    "    \n",
    "    if verbose:\n",
    "        print(f\"input word : {word}, \\nsplit words : {split_l}, \\nswitch words : {switch_l}\")\n",
    "    \n",
    "    return switch_l"
   ]
  },
  {
   "cell_type": "code",
   "execution_count": 8,
   "id": "frank-sociology",
   "metadata": {},
   "outputs": [],
   "source": [
    "def replace_letter(word , verbose = False):\n",
    "    \n",
    "    split_l  = []\n",
    "    replace_l = []\n",
    "    letters = 'abcdefghijklmnopqrstuvwxyz'\n",
    "    for i in range(len(word)):\n",
    "        split_l.append((word[0:i], word[i:]))\n",
    "        \n",
    "    replace_l = [L+l+(R[1:] if len(R)>1 else '') for L,R in split_l if R for l in letters]\n",
    "    replace_set = set(replace_l)\n",
    "    replace_set.remove(word)\n",
    "    \n",
    "    replace_l = sorted(list(replace_set))\n",
    "    \n",
    "    if verbose:\n",
    "        print(f\"input word :{word}, \\nsplit words : {split_l}, \\nreplace words :{replace_l} \")\n",
    "        \n",
    "    return replace_l"
   ]
  },
  {
   "cell_type": "code",
   "execution_count": 9,
   "id": "guided-tampa",
   "metadata": {},
   "outputs": [],
   "source": [
    "def insert_letter(word , verbose = False):\n",
    "    \n",
    "    split_l = []\n",
    "    letters = 'abcdefghijklmnopqrstuvwxyz'\n",
    "    for i in range(len(word)+1):\n",
    "        split_l.append((word[:i] , word[i:]))\n",
    "        \n",
    "    insert_l  = [L+l+R for L, R in split_l for l in letters]\n",
    "    \n",
    "    if verbose: print(f\"Input word {word} \\nsplit_l = {split_l} \\ninsert_l = {insert_l}\")\n",
    "        \n",
    "    return insert_l"
   ]
  },
  {
   "cell_type": "code",
   "execution_count": 10,
   "id": "animal-craps",
   "metadata": {},
   "outputs": [],
   "source": [
    "def one_word_edit(word, allow_switches = True):\n",
    "    \n",
    "    edit_one_words = set()\n",
    "    \n",
    "    edit_one_words.update(delete_letter(word))\n",
    "    if allow_switches:\n",
    "        edit_one_words.update(switch_letter(word))\n",
    "    edit_one_words.update(replace_letter(word))\n",
    "    edit_one_words.update(insert_letter(word))\n",
    "        \n",
    "    return edit_one_words"
   ]
  },
  {
   "cell_type": "code",
   "execution_count": 11,
   "id": "convertible-fetish",
   "metadata": {},
   "outputs": [],
   "source": [
    "def two_word_edit(word , allow_switches=True):\n",
    "    \n",
    "    edit_two_word = set()\n",
    "    \n",
    "    edit_one = one_word_edit(word , allow_switches=allow_switches)\n",
    "    for w in edit_one:\n",
    "        edit_two = one_word_edit(w , allow_switches=allow_switches)\n",
    "        edit_two_word.update(edit_two)\n",
    "    \n",
    "    return edit_two_word"
   ]
  },
  {
   "cell_type": "code",
   "execution_count": 12,
   "id": "similar-philippines",
   "metadata": {},
   "outputs": [],
   "source": [
    "def get_suggestion(word , probs ,vocab , n = 2 , verbose = False):\n",
    "    \n",
    "    suggestion = list((word in vocab and word) or one_word_edit(word).intersection(vocab) or two_word_edit(word).intersection(vocab))\n",
    "    n_best = [[s , probs[s]] for s in list(reversed(suggestion))]\n",
    "    if verbose: print(\"suggestions = \", suggestion)\n",
    "    return n_best"
   ]
  },
  {
   "cell_type": "code",
   "execution_count": 13,
   "id": "architectural-merchandise",
   "metadata": {},
   "outputs": [],
   "source": [
    "def minimum_edit_distance(source ,target , ins_cost = 1 , del_cost = 1 , repl_cost = 2):\n",
    "    \n",
    "    m = len(source)\n",
    "    n = len(target)\n",
    "    \n",
    "    D = np.zeros((m+1 , n+1) , dtype = int)\n",
    "    \n",
    "    for row in range(1,m+1):\n",
    "        D[row , 0] = D[row-1,0] + del_cost\n",
    "        \n",
    "    for col in range(1,n+1):\n",
    "        D[0,col] = D[0 , col-1] + ins_cost\n",
    "        \n",
    "    for row in range(1,m+1):\n",
    "        for col in range(1,n+1):\n",
    "            \n",
    "            rep_cost = repl_cost\n",
    "            \n",
    "            if source[row-1] == target[col-1]:\n",
    "                rep_cost = 0\n",
    "            \n",
    "            D[row ,col] = min(D[row-1 , col]+del_cost , D[row , col-1]+ins_cost , D[row-1 ,col-1]+rep_cost)\n",
    "            \n",
    "    med = D[m,n]\n",
    "    \n",
    "    return med , D"
   ]
  },
  {
   "cell_type": "code",
   "execution_count": null,
   "id": "black-sustainability",
   "metadata": {},
   "outputs": [],
   "source": []
  },
  {
   "cell_type": "code",
   "execution_count": null,
   "id": "threaded-electron",
   "metadata": {},
   "outputs": [],
   "source": []
  }
 ],
 "metadata": {
  "kernelspec": {
   "display_name": "Python 3",
   "language": "python",
   "name": "python3"
  },
  "language_info": {
   "codemirror_mode": {
    "name": "ipython",
    "version": 3
   },
   "file_extension": ".py",
   "mimetype": "text/x-python",
   "name": "python",
   "nbconvert_exporter": "python",
   "pygments_lexer": "ipython3",
   "version": "3.8.5"
  }
 },
 "nbformat": 4,
 "nbformat_minor": 5
}
